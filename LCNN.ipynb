{
 "cells": [
  {
   "cell_type": "code",
   "execution_count": 1,
   "metadata": {},
   "outputs": [],
   "source": [
    "import os\n",
    "import re\n",
    "\n",
    "# Image processing...\n",
    "from PIL import Image"
   ]
  },
  {
   "cell_type": "code",
   "execution_count": 2,
   "metadata": {},
   "outputs": [],
   "source": [
    "import os\n",
    "import re\n",
    "import numpy as np\n",
    "import matplotlib.pyplot as plt\n",
    "from PIL import Image\n",
    "\n",
    "import cv2\n",
    "import pickle\n",
    "from sklearn.utils import shuffle\n",
    "\n",
    "from sklearn.model_selection import train_test_split\n",
    "from sklearn.preprocessing import OneHotEncoder\n",
    "\n",
    "from keras.preprocessing.image import ImageDataGenerator\n",
    "from keras.models import Sequential\n",
    "from keras.layers import Dropout,Activation,Dense,Flatten\n",
    "from keras.layers import Conv2D,MaxPooling2D\n",
    "from tensorflow.keras.optimizers import Adam,SGD,RMSprop,Adadelta\n",
    "from keras.regularizers import l2\n",
    "from tensorflow.keras.utils import to_categorical\n",
    "from sklearn.metrics import confusion_matrix\n",
    "from keras.callbacks import ModelCheckpoint, EarlyStopping"
   ]
  },
  {
   "cell_type": "code",
   "execution_count": 3,
   "metadata": {},
   "outputs": [
    {
     "data": {
      "text/plain": [
       "20778"
      ]
     },
     "execution_count": 3,
     "metadata": {},
     "output_type": "execute_result"
    }
   ],
   "source": [
    "# Setting up the image pool\n",
    "path = 'C:/Users/Sudo_kill/Desktop/kuba/images/images/'\n",
    "imgs = os.listdir(path)\n",
    "img_x = img_y = 50 # image size is constant\n",
    "n_samples = np.size(imgs)\n",
    "n_samples # 20778 originally"
   ]
  },
  {
   "cell_type": "code",
   "execution_count": 4,
   "metadata": {},
   "outputs": [
    {
     "data": {
      "text/plain": [
       "'Toyota'"
      ]
     },
     "execution_count": 4,
     "metadata": {},
     "output_type": "execute_result"
    }
   ],
   "source": [
    "l = 'Toyota0512_small.jpg'\n",
    "\n",
    "re.findall(r'(\\w+?)(\\d+)', l)[0][0]"
   ]
  },
  {
   "cell_type": "code",
   "execution_count": 5,
   "metadata": {},
   "outputs": [
    {
     "data": {
      "text/plain": [
       "'Volvo'"
      ]
     },
     "execution_count": 5,
     "metadata": {},
     "output_type": "execute_result"
    }
   ],
   "source": [
    "d ='Volvo3215_small.jpg'\n",
    "\n",
    "re.findall(r'(\\w+?)(\\d+)', d)[0][0]"
   ]
  },
  {
   "cell_type": "code",
   "execution_count": 6,
   "metadata": {},
   "outputs": [
    {
     "name": "stdout",
     "output_type": "stream",
     "text": [
      "Alfa Romeo10882_small.jpg\n"
     ]
    }
   ],
   "source": [
    "for img in os.listdir(path):\n",
    "    print(img)\n",
    "    break"
   ]
  },
  {
   "cell_type": "code",
   "execution_count": 7,
   "metadata": {},
   "outputs": [
    {
     "name": "stdout",
     "output_type": "stream",
     "text": [
      "Romeo\n"
     ]
    }
   ],
   "source": [
    "brand_name=[]\n",
    "for img in os.listdir(path):\n",
    "    logo = re.findall(r'(\\w+?)(\\d+)',img)[0][0]\n",
    "    print(logo)\n",
    "    break"
   ]
  },
  {
   "cell_type": "code",
   "execution_count": 8,
   "metadata": {},
   "outputs": [
    {
     "name": "stdout",
     "output_type": "stream",
     "text": [
      "(7500,)\n",
      "[1 0 2 ... 0 0 0]\n"
     ]
    }
   ],
   "source": [
    "for img in os.listdir(path):\n",
    "    i = np.array(np.array(Image.open(path+img).convert(\"RGB\")).flatten(),order='F',dtype='uint8')\n",
    "    print(i.shape)\n",
    "    print(i)\n",
    "    break"
   ]
  },
  {
   "cell_type": "code",
   "execution_count": 9,
   "metadata": {},
   "outputs": [],
   "source": [
    "brand_images=[]\n",
    "brand_names=[]\n",
    "\n",
    "for img in os.listdir(path):\n",
    "    logo = re.findall(r'(\\w+?)(\\d+)',img)[0][0]\n",
    "    i = np.array(np.array(Image.open(path+img).convert(\"RGB\")).flatten(),order='F',dtype='uint8')\n",
    "    brand_names.append(logo)\n",
    "    brand_images.append(i)\n"
   ]
  },
  {
   "cell_type": "code",
   "execution_count": 10,
   "metadata": {},
   "outputs": [
    {
     "name": "stdout",
     "output_type": "stream",
     "text": [
      "20778\n",
      "20778\n"
     ]
    }
   ],
   "source": [
    "print(len(brand_names))\n",
    "print(len(brand_images))"
   ]
  },
  {
   "cell_type": "code",
   "execution_count": 11,
   "metadata": {},
   "outputs": [
    {
     "name": "stdout",
     "output_type": "stream",
     "text": [
      "Total no.of brands : 39\n"
     ]
    },
    {
     "data": {
      "text/plain": [
       "array(['Audi', 'BMW', 'Chevrolet', 'Citroen', 'Dacia', 'Daewoo', 'Dodge',\n",
       "       'Ferrari', 'Fiat', 'Ford', 'Honda', 'Hyundai', 'Jaguar', 'Jeep',\n",
       "       'Kia', 'Lada', 'Lancia', 'Lexus', 'Maserati', 'Mazda', 'Mercedes',\n",
       "       'Mitsubishi', 'Nissan', 'Opel', 'Peugeot', 'Porsche', 'Renault',\n",
       "       'Romeo', 'Rover', 'Saab', 'Seat', 'Skoda', 'Subaru', 'Suzuki',\n",
       "       'Tata', 'Tesla', 'Toyota', 'Volkswagen', 'Volvo'], dtype='<U10')"
      ]
     },
     "execution_count": 11,
     "metadata": {},
     "output_type": "execute_result"
    }
   ],
   "source": [
    "All_brands= []\n",
    "All_brands= np.unique(np.array(brand_names))\n",
    "print(\"Total no.of brands :\",len(All_brands))\n",
    "\n",
    "All_brands\n"
   ]
  },
  {
   "cell_type": "code",
   "execution_count": 12,
   "metadata": {},
   "outputs": [],
   "source": [
    "x = np.array(brand_images)\n",
    "y = np.array(brand_names)"
   ]
  },
  {
   "cell_type": "code",
   "execution_count": 13,
   "metadata": {},
   "outputs": [],
   "source": [
    "pickle_out = open(\"x.pickle\",\"wb\")\n",
    "pickle.dump(x,pickle_out)\n",
    "pickle_out.close()\n",
    "\n",
    "pickle_out = open(\"y.pickle\",\"wb\")\n",
    "pickle.dump(y,pickle_out)\n",
    "pickle_out.close()\n",
    "\n"
   ]
  },
  {
   "cell_type": "code",
   "execution_count": 14,
   "metadata": {},
   "outputs": [
    {
     "data": {
      "text/plain": [
       "array([0.91372549, 1.        , 1.        , ..., 1.        , 1.        ,\n",
       "       1.        ])"
      ]
     },
     "execution_count": 14,
     "metadata": {},
     "output_type": "execute_result"
    }
   ],
   "source": [
    "x = x/255.0\n",
    "x[1]"
   ]
  },
  {
   "cell_type": "code",
   "execution_count": 15,
   "metadata": {},
   "outputs": [],
   "source": [
    "data,labels = shuffle(x,y,random_state=42) \n",
    "train_data = [data,labels]"
   ]
  },
  {
   "cell_type": "code",
   "execution_count": 16,
   "metadata": {},
   "outputs": [
    {
     "name": "stdout",
     "output_type": "stream",
     "text": [
      "(20778, 7500) (20778,)\n"
     ]
    },
    {
     "data": {
      "image/png": "[encoded data removed]",
      "text/plain": [
       "<Figure size 432x288 with 1 Axes>"
      ]
     },
     "metadata": {
      "needs_background": "light"
     },
     "output_type": "display_data"
    }
   ],
   "source": [
    "i = 190\n",
    "print(train_data[0].shape, train_data[1].shape)\n",
    "plt.imshow(data[i].reshape(50,50,3))\n",
    "plt.title(labels[i])\n",
    "plt.show()"
   ]
  },
  {
   "cell_type": "code",
   "execution_count": 17,
   "metadata": {},
   "outputs": [],
   "source": [
    "otr = OneHotEncoder()\n",
    "y = otr.fit_transform(train_data[1].reshape(-1,1)).toarray()"
   ]
  },
  {
   "cell_type": "code",
   "execution_count": 18,
   "metadata": {},
   "outputs": [
    {
     "data": {
      "text/plain": [
       "(20778, 39)"
      ]
     },
     "execution_count": 18,
     "metadata": {},
     "output_type": "execute_result"
    }
   ],
   "source": [
    "y.shape"
   ]
  },
  {
   "cell_type": "code",
   "execution_count": 19,
   "metadata": {},
   "outputs": [],
   "source": [
    "X_train, X_test, y_train, y_test = train_test_split(train_data[0],y, test_size=0.2)"
   ]
  },
  {
   "cell_type": "code",
   "execution_count": 20,
   "metadata": {},
   "outputs": [],
   "source": [
    "X_train = X_train.reshape(X_train.shape[0], img_x, img_y, 3)\n",
    "X_test = X_test.reshape(X_test.shape[0], img_x, img_y, 3)"
   ]
  },
  {
   "cell_type": "code",
   "execution_count": 21,
   "metadata": {},
   "outputs": [
    {
     "data": {
      "text/plain": [
       "(16622, 50, 50, 3)"
      ]
     },
     "execution_count": 21,
     "metadata": {},
     "output_type": "execute_result"
    }
   ],
   "source": [
    "X_train.shape"
   ]
  },
  {
   "cell_type": "code",
   "execution_count": 22,
   "metadata": {},
   "outputs": [
    {
     "data": {
      "text/plain": [
       "(16622, 39)"
      ]
     },
     "execution_count": 22,
     "metadata": {},
     "output_type": "execute_result"
    }
   ],
   "source": [
    "y_train.shape"
   ]
  },
  {
   "cell_type": "code",
   "execution_count": 23,
   "metadata": {},
   "outputs": [
    {
     "data": {
      "text/plain": [
       "(4156, 50, 50, 3)"
      ]
     },
     "execution_count": 23,
     "metadata": {},
     "output_type": "execute_result"
    }
   ],
   "source": [
    "X_test.shape"
   ]
  },
  {
   "cell_type": "code",
   "execution_count": 24,
   "metadata": {},
   "outputs": [
    {
     "data": {
      "text/plain": [
       "(4156, 39)"
      ]
     },
     "execution_count": 24,
     "metadata": {},
     "output_type": "execute_result"
    }
   ],
   "source": [
    "y_test.shape"
   ]
  },
  {
   "cell_type": "code",
   "execution_count": 26,
   "metadata": {},
   "outputs": [],
   "source": [
    "datagen = ImageDataGenerator(rotation_range=45,\n",
    "                             width_shift_range=0.3,\n",
    "                             height_shift_range=0.3,\n",
    "                             horizontal_flip=True,\n",
    "                             vertical_flip=0.3,\n",
    "                             zoom_range=0.3)\n",
    "\n",
    "datagen.fit(X_train)"
   ]
  },
  {
   "cell_type": "code",
   "execution_count": 28,
   "metadata": {},
   "outputs": [],
   "source": [
    "batch_size = 128\n",
    "n_classes = len(All_brands)\n",
    "epochs = 200\n",
    "n_channels =3"
   ]
  },
  {
   "cell_type": "code",
   "execution_count": 29,
   "metadata": {},
   "outputs": [
    {
     "name": "stdout",
     "output_type": "stream",
     "text": [
      "Model: \"sequential\"\n",
      "_________________________________________________________________\n",
      " Layer (type)                Output Shape              Param #   \n",
      "=================================================================\n",
      " conv2d (Conv2D)             (None, 50, 50, 32)        896       \n",
      "                                                                 \n",
      " max_pooling2d (MaxPooling2D  (None, 25, 25, 32)       0         \n",
      " )                                                               \n",
      "                                                                 \n",
      " conv2d_1 (Conv2D)           (None, 25, 25, 64)        18496     \n",
      "                                                                 \n",
      " max_pooling2d_1 (MaxPooling  (None, 12, 12, 64)       0         \n",
      " 2D)                                                             \n",
      "                                                                 \n",
      " conv2d_2 (Conv2D)           (None, 12, 12, 128)       73856     \n",
      "                                                                 \n",
      " max_pooling2d_2 (MaxPooling  (None, 6, 6, 128)        0         \n",
      " 2D)                                                             \n",
      "                                                                 \n",
      " conv2d_3 (Conv2D)           (None, 6, 6, 256)         295168    \n",
      "                                                                 \n",
      " max_pooling2d_3 (MaxPooling  (None, 3, 3, 256)        0         \n",
      " 2D)                                                             \n",
      "                                                                 \n",
      " flatten (Flatten)           (None, 2304)              0         \n",
      "                                                                 \n",
      " dense (Dense)               (None, 128)               295040    \n",
      "                                                                 \n",
      " dropout (Dropout)           (None, 128)               0         \n",
      "                                                                 \n",
      " dense_1 (Dense)             (None, 128)               16512     \n",
      "                                                                 \n",
      " dropout_1 (Dropout)         (None, 128)               0         \n",
      "                                                                 \n",
      " dense_2 (Dense)             (None, 39)                5031      \n",
      "                                                                 \n",
      "=================================================================\n",
      "Total params: 704,999\n",
      "Trainable params: 704,999\n",
      "Non-trainable params: 0\n",
      "_________________________________________________________________\n"
     ]
    }
   ],
   "source": [
    "model = Sequential()\n",
    "model.add(Conv2D(32, (3,3),\n",
    "                 input_shape=(img_x,img_y,n_channels),\n",
    "                 padding='same',\n",
    "                 activation='relu'))\n",
    "model.add(MaxPooling2D(pool_size=(2,2)))\n",
    "\n",
    "model.add(Conv2D(64, (3,3),\n",
    "                 padding='same',                 \n",
    "                 activation='relu'))\n",
    "model.add(MaxPooling2D(pool_size=(2,2)))\n",
    "\n",
    "model.add(Conv2D(128, (3,3),\n",
    "                 padding='same',                 \n",
    "                 activation='relu'))\n",
    "model.add(MaxPooling2D(pool_size=(2,2)))\n",
    "\n",
    "model.add(Conv2D(256, (3,3),\n",
    "                 padding='same',               \n",
    "                 activation='relu'))\n",
    "model.add(MaxPooling2D(pool_size=(2,2)))\n",
    "\n",
    "model.add(Flatten())\n",
    "\n",
    "model.add(Dense(128, activation='relu'))\n",
    "model.add(Dropout(0.5))\n",
    "\n",
    "model.add(Dense(128, activation='relu'))\n",
    "model.add(Dropout(0.5))\n",
    "\n",
    "# final activation is softmax, tuned to the number of classes/labels possible\n",
    "model.add(Dense(len(All_brands), activation='softmax'))\n",
    "\n",
    "\n",
    "\n",
    "model.summary()"
   ]
  },
  {
   "cell_type": "code",
   "execution_count": 30,
   "metadata": {},
   "outputs": [],
   "source": [
    "opt = Adam()\n",
    "\n",
    "model.compile(loss='categorical_crossentropy',optimizer=opt,metrics=['categorical_accuracy'])"
   ]
  },
  {
   "cell_type": "code",
   "execution_count": 31,
   "metadata": {},
   "outputs": [
    {
     "name": "stdout",
     "output_type": "stream",
     "text": [
      "Epoch 1/200\n",
      "129/129 [==============================] - 35s 266ms/step - loss: 3.6307 - categorical_accuracy: 0.0395 - val_loss: 3.5753 - val_categorical_accuracy: 0.0438\n",
      "Epoch 2/200\n",
      "129/129 [==============================] - 38s 297ms/step - loss: 3.5728 - categorical_accuracy: 0.0542 - val_loss: 3.5144 - val_categorical_accuracy: 0.0481\n",
      "Epoch 3/200\n",
      "129/129 [==============================] - 40s 306ms/step - loss: 3.5330 - categorical_accuracy: 0.0598 - val_loss: 3.4835 - val_categorical_accuracy: 0.0808\n",
      "Epoch 4/200\n",
      "129/129 [==============================] - 39s 304ms/step - loss: 3.4679 - categorical_accuracy: 0.0783 - val_loss: 3.3534 - val_categorical_accuracy: 0.1011\n",
      "Epoch 5/200\n",
      "129/129 [==============================] - 40s 306ms/step - loss: 3.4050 - categorical_accuracy: 0.0899 - val_loss: 3.2426 - val_categorical_accuracy: 0.1270\n",
      "Epoch 6/200\n",
      "129/129 [==============================] - 41s 314ms/step - loss: 3.3182 - categorical_accuracy: 0.1096 - val_loss: 3.1655 - val_categorical_accuracy: 0.1396\n",
      "Epoch 7/200\n",
      "129/129 [==============================] - 40s 310ms/step - loss: 3.2612 - categorical_accuracy: 0.1268 - val_loss: 3.1448 - val_categorical_accuracy: 0.1593\n",
      "Epoch 8/200\n",
      "129/129 [==============================] - 40s 307ms/step - loss: 3.1957 - categorical_accuracy: 0.1478 - val_loss: 3.0406 - val_categorical_accuracy: 0.1800\n",
      "Epoch 9/200\n",
      "129/129 [==============================] - 40s 306ms/step - loss: 3.1451 - categorical_accuracy: 0.1614 - val_loss: 2.9739 - val_categorical_accuracy: 0.1973\n",
      "Epoch 10/200\n",
      "129/129 [==============================] - 40s 306ms/step - loss: 3.1072 - categorical_accuracy: 0.1736 - val_loss: 2.9801 - val_categorical_accuracy: 0.2045\n",
      "Epoch 11/200\n",
      "129/129 [==============================] - 40s 305ms/step - loss: 3.0671 - categorical_accuracy: 0.1856 - val_loss: 2.8981 - val_categorical_accuracy: 0.2310\n",
      "Epoch 12/200\n",
      "129/129 [==============================] - 39s 303ms/step - loss: 3.0215 - categorical_accuracy: 0.1983 - val_loss: 2.8624 - val_categorical_accuracy: 0.2397\n",
      "Epoch 13/200\n",
      "129/129 [==============================] - 40s 305ms/step - loss: 2.9829 - categorical_accuracy: 0.2092 - val_loss: 2.8210 - val_categorical_accuracy: 0.2469\n",
      "Epoch 14/200\n",
      "129/129 [==============================] - 40s 309ms/step - loss: 2.9491 - categorical_accuracy: 0.2154 - val_loss: 2.7826 - val_categorical_accuracy: 0.2620\n",
      "Epoch 15/200\n",
      "129/129 [==============================] - 39s 303ms/step - loss: 2.9120 - categorical_accuracy: 0.2246 - val_loss: 2.7199 - val_categorical_accuracy: 0.2601\n",
      "Epoch 16/200\n",
      "129/129 [==============================] - 40s 307ms/step - loss: 2.8835 - categorical_accuracy: 0.2309 - val_loss: 2.7350 - val_categorical_accuracy: 0.2601\n",
      "Epoch 17/200\n",
      "129/129 [==============================] - 39s 300ms/step - loss: 2.8558 - categorical_accuracy: 0.2343 - val_loss: 2.7290 - val_categorical_accuracy: 0.2625\n",
      "Epoch 18/200\n",
      "129/129 [==============================] - 40s 308ms/step - loss: 2.8274 - categorical_accuracy: 0.2412 - val_loss: 2.6446 - val_categorical_accuracy: 0.2856\n",
      "Epoch 19/200\n",
      "129/129 [==============================] - 39s 304ms/step - loss: 2.7964 - categorical_accuracy: 0.2529 - val_loss: 2.6096 - val_categorical_accuracy: 0.2890\n",
      "Epoch 20/200\n",
      "129/129 [==============================] - 40s 311ms/step - loss: 2.7815 - categorical_accuracy: 0.2514 - val_loss: 2.5851 - val_categorical_accuracy: 0.3003\n",
      "Epoch 21/200\n",
      "129/129 [==============================] - 41s 315ms/step - loss: 2.7371 - categorical_accuracy: 0.2637 - val_loss: 2.5225 - val_categorical_accuracy: 0.3159\n",
      "Epoch 22/200\n",
      "129/129 [==============================] - 41s 316ms/step - loss: 2.7094 - categorical_accuracy: 0.2667 - val_loss: 2.5291 - val_categorical_accuracy: 0.3152\n",
      "Epoch 23/200\n",
      "129/129 [==============================] - 40s 311ms/step - loss: 2.6847 - categorical_accuracy: 0.2775 - val_loss: 2.5221 - val_categorical_accuracy: 0.3171\n",
      "Epoch 24/200\n",
      "129/129 [==============================] - 41s 315ms/step - loss: 2.6739 - categorical_accuracy: 0.2829 - val_loss: 2.4263 - val_categorical_accuracy: 0.3364\n",
      "Epoch 25/200\n",
      "129/129 [==============================] - 40s 308ms/step - loss: 2.6289 - categorical_accuracy: 0.2867 - val_loss: 2.4020 - val_categorical_accuracy: 0.3465\n",
      "Epoch 26/200\n",
      "129/129 [==============================] - 40s 311ms/step - loss: 2.6183 - categorical_accuracy: 0.2937 - val_loss: 2.4025 - val_categorical_accuracy: 0.3525\n",
      "Epoch 27/200\n",
      "129/129 [==============================] - 38s 295ms/step - loss: 2.5872 - categorical_accuracy: 0.3010 - val_loss: 2.3697 - val_categorical_accuracy: 0.3551\n",
      "Epoch 28/200\n",
      "129/129 [==============================] - 38s 293ms/step - loss: 2.5534 - categorical_accuracy: 0.3133 - val_loss: 2.3325 - val_categorical_accuracy: 0.3715\n",
      "Epoch 29/200\n",
      "129/129 [==============================] - 38s 295ms/step - loss: 2.5354 - categorical_accuracy: 0.3180 - val_loss: 2.3059 - val_categorical_accuracy: 0.3722\n",
      "Epoch 30/200\n",
      "129/129 [==============================] - 39s 298ms/step - loss: 2.5159 - categorical_accuracy: 0.3262 - val_loss: 2.3117 - val_categorical_accuracy: 0.3749\n",
      "Epoch 31/200\n",
      "129/129 [==============================] - 39s 299ms/step - loss: 2.4988 - categorical_accuracy: 0.3312 - val_loss: 2.2881 - val_categorical_accuracy: 0.3886\n",
      "Epoch 32/200\n",
      "129/129 [==============================] - 38s 296ms/step - loss: 2.4533 - categorical_accuracy: 0.3398 - val_loss: 2.2196 - val_categorical_accuracy: 0.4050\n",
      "Epoch 33/200\n",
      "129/129 [==============================] - 39s 297ms/step - loss: 2.4315 - categorical_accuracy: 0.3438 - val_loss: 2.1425 - val_categorical_accuracy: 0.4235\n",
      "Epoch 34/200\n",
      "129/129 [==============================] - 37s 287ms/step - loss: 2.4065 - categorical_accuracy: 0.3527 - val_loss: 2.1886 - val_categorical_accuracy: 0.4170\n",
      "Epoch 35/200\n",
      "129/129 [==============================] - 38s 296ms/step - loss: 2.3825 - categorical_accuracy: 0.3592 - val_loss: 2.1441 - val_categorical_accuracy: 0.4252\n",
      "Epoch 36/200\n",
      "129/129 [==============================] - 38s 296ms/step - loss: 2.3694 - categorical_accuracy: 0.3671 - val_loss: 2.1211 - val_categorical_accuracy: 0.4307\n",
      "Epoch 37/200\n",
      "129/129 [==============================] - 38s 295ms/step - loss: 2.3536 - categorical_accuracy: 0.3687 - val_loss: 2.0735 - val_categorical_accuracy: 0.4425\n",
      "Epoch 38/200\n",
      "129/129 [==============================] - 39s 297ms/step - loss: 2.3330 - categorical_accuracy: 0.3713 - val_loss: 2.1521 - val_categorical_accuracy: 0.4269\n",
      "Epoch 39/200\n",
      "129/129 [==============================] - 38s 295ms/step - loss: 2.3284 - categorical_accuracy: 0.3720 - val_loss: 2.0708 - val_categorical_accuracy: 0.4480\n",
      "Epoch 40/200\n",
      "129/129 [==============================] - 39s 300ms/step - loss: 2.2948 - categorical_accuracy: 0.3814 - val_loss: 2.0557 - val_categorical_accuracy: 0.4577\n",
      "Epoch 41/200\n",
      "129/129 [==============================] - 38s 296ms/step - loss: 2.2986 - categorical_accuracy: 0.3861 - val_loss: 2.0695 - val_categorical_accuracy: 0.4507\n",
      "Epoch 42/200\n",
      "129/129 [==============================] - 38s 293ms/step - loss: 2.2715 - categorical_accuracy: 0.3916 - val_loss: 2.0318 - val_categorical_accuracy: 0.4673\n",
      "Epoch 43/200\n",
      "129/129 [==============================] - 39s 298ms/step - loss: 2.2466 - categorical_accuracy: 0.3990 - val_loss: 2.0564 - val_categorical_accuracy: 0.4608\n",
      "Epoch 44/200\n",
      "129/129 [==============================] - 38s 294ms/step - loss: 2.2223 - categorical_accuracy: 0.4051 - val_loss: 1.9714 - val_categorical_accuracy: 0.4723\n",
      "Epoch 45/200\n",
      "129/129 [==============================] - 38s 297ms/step - loss: 2.2275 - categorical_accuracy: 0.4069 - val_loss: 1.9981 - val_categorical_accuracy: 0.4805\n",
      "Epoch 46/200\n",
      "129/129 [==============================] - 38s 297ms/step - loss: 2.2146 - categorical_accuracy: 0.4083 - val_loss: 1.9387 - val_categorical_accuracy: 0.4863\n",
      "Epoch 47/200\n",
      "129/129 [==============================] - 38s 293ms/step - loss: 2.1994 - categorical_accuracy: 0.4105 - val_loss: 1.9780 - val_categorical_accuracy: 0.4795\n",
      "Epoch 48/200\n",
      "129/129 [==============================] - 39s 303ms/step - loss: 2.1625 - categorical_accuracy: 0.4217 - val_loss: 1.8923 - val_categorical_accuracy: 0.5019\n"
     ]
    },
    {
     "name": "stdout",
     "output_type": "stream",
     "text": [
      "Epoch 49/200\n",
      "129/129 [==============================] - 39s 297ms/step - loss: 2.1511 - categorical_accuracy: 0.4199 - val_loss: 1.9104 - val_categorical_accuracy: 0.5029\n",
      "Epoch 50/200\n",
      "129/129 [==============================] - 38s 296ms/step - loss: 2.1287 - categorical_accuracy: 0.4274 - val_loss: 1.8969 - val_categorical_accuracy: 0.4978\n",
      "Epoch 51/200\n",
      "129/129 [==============================] - 38s 294ms/step - loss: 2.1247 - categorical_accuracy: 0.4323 - val_loss: 1.8883 - val_categorical_accuracy: 0.5007\n",
      "Epoch 52/200\n",
      "129/129 [==============================] - 38s 297ms/step - loss: 2.0980 - categorical_accuracy: 0.4366 - val_loss: 1.8777 - val_categorical_accuracy: 0.4998\n",
      "Epoch 53/200\n",
      "129/129 [==============================] - 38s 296ms/step - loss: 2.1168 - categorical_accuracy: 0.4366 - val_loss: 1.8806 - val_categorical_accuracy: 0.4981\n",
      "Epoch 54/200\n",
      "129/129 [==============================] - 38s 292ms/step - loss: 2.0999 - categorical_accuracy: 0.4376 - val_loss: 1.8574 - val_categorical_accuracy: 0.5053\n",
      "Epoch 55/200\n",
      "129/129 [==============================] - 39s 297ms/step - loss: 2.0788 - categorical_accuracy: 0.4430 - val_loss: 1.8258 - val_categorical_accuracy: 0.5217\n",
      "Epoch 56/200\n",
      "129/129 [==============================] - 38s 294ms/step - loss: 2.0663 - categorical_accuracy: 0.4493 - val_loss: 1.8066 - val_categorical_accuracy: 0.5192\n",
      "Epoch 57/200\n",
      "129/129 [==============================] - 38s 294ms/step - loss: 2.0545 - categorical_accuracy: 0.4491 - val_loss: 1.8304 - val_categorical_accuracy: 0.5101\n",
      "Epoch 58/200\n",
      "129/129 [==============================] - 38s 293ms/step - loss: 2.0422 - categorical_accuracy: 0.4566 - val_loss: 1.9054 - val_categorical_accuracy: 0.5053\n",
      "Epoch 59/200\n",
      "129/129 [==============================] - 38s 293ms/step - loss: 2.0443 - categorical_accuracy: 0.4569 - val_loss: 1.7617 - val_categorical_accuracy: 0.5248\n",
      "Epoch 60/200\n",
      "129/129 [==============================] - 38s 297ms/step - loss: 2.0169 - categorical_accuracy: 0.4617 - val_loss: 1.7544 - val_categorical_accuracy: 0.5416\n",
      "Epoch 61/200\n",
      "129/129 [==============================] - 38s 295ms/step - loss: 1.9903 - categorical_accuracy: 0.4669 - val_loss: 1.8337 - val_categorical_accuracy: 0.5168\n",
      "Epoch 62/200\n",
      "129/129 [==============================] - 38s 294ms/step - loss: 1.9794 - categorical_accuracy: 0.4668 - val_loss: 1.7434 - val_categorical_accuracy: 0.5378\n",
      "Epoch 63/200\n",
      "129/129 [==============================] - 38s 296ms/step - loss: 1.9955 - categorical_accuracy: 0.4700 - val_loss: 1.8209 - val_categorical_accuracy: 0.5267\n",
      "Epoch 64/200\n",
      "129/129 [==============================] - 38s 293ms/step - loss: 1.9725 - categorical_accuracy: 0.4747 - val_loss: 1.7777 - val_categorical_accuracy: 0.5383\n",
      "Epoch 65/200\n",
      "129/129 [==============================] - 38s 297ms/step - loss: 1.9580 - categorical_accuracy: 0.4796 - val_loss: 1.7553 - val_categorical_accuracy: 0.5457\n",
      "Epoch 66/200\n",
      "129/129 [==============================] - 38s 294ms/step - loss: 1.9612 - categorical_accuracy: 0.4790 - val_loss: 1.7988 - val_categorical_accuracy: 0.5173\n",
      "Epoch 67/200\n",
      "129/129 [==============================] - 38s 297ms/step - loss: 1.9440 - categorical_accuracy: 0.4813 - val_loss: 1.7068 - val_categorical_accuracy: 0.5594\n",
      "Epoch 68/200\n",
      "129/129 [==============================] - 39s 298ms/step - loss: 1.9484 - categorical_accuracy: 0.4847 - val_loss: 1.7037 - val_categorical_accuracy: 0.5594\n",
      "Epoch 69/200\n",
      "129/129 [==============================] - 38s 293ms/step - loss: 1.9369 - categorical_accuracy: 0.4836 - val_loss: 1.6757 - val_categorical_accuracy: 0.5652\n",
      "Epoch 70/200\n",
      "129/129 [==============================] - 39s 298ms/step - loss: 1.9076 - categorical_accuracy: 0.4965 - val_loss: 1.6727 - val_categorical_accuracy: 0.5659\n",
      "Epoch 71/200\n",
      "129/129 [==============================] - 39s 301ms/step - loss: 1.9305 - categorical_accuracy: 0.4879 - val_loss: 1.6359 - val_categorical_accuracy: 0.5703\n",
      "Epoch 72/200\n",
      "129/129 [==============================] - 38s 297ms/step - loss: 1.9012 - categorical_accuracy: 0.4936 - val_loss: 1.6836 - val_categorical_accuracy: 0.5594\n",
      "Epoch 73/200\n",
      "129/129 [==============================] - 38s 295ms/step - loss: 1.9029 - categorical_accuracy: 0.4961 - val_loss: 1.6355 - val_categorical_accuracy: 0.5758\n",
      "Epoch 74/200\n",
      "129/129 [==============================] - 38s 296ms/step - loss: 1.8990 - categorical_accuracy: 0.5000 - val_loss: 1.7200 - val_categorical_accuracy: 0.5570\n",
      "Epoch 75/200\n",
      "129/129 [==============================] - 39s 303ms/step - loss: 1.8724 - categorical_accuracy: 0.4992 - val_loss: 1.5953 - val_categorical_accuracy: 0.5830\n",
      "Epoch 76/200\n",
      "129/129 [==============================] - 39s 297ms/step - loss: 1.8750 - categorical_accuracy: 0.4967 - val_loss: 1.7251 - val_categorical_accuracy: 0.5460\n",
      "Epoch 77/200\n",
      "129/129 [==============================] - 39s 298ms/step - loss: 1.8695 - categorical_accuracy: 0.5033 - val_loss: 1.6250 - val_categorical_accuracy: 0.5859\n",
      "Epoch 78/200\n",
      "129/129 [==============================] - 39s 298ms/step - loss: 1.8558 - categorical_accuracy: 0.5123 - val_loss: 1.5906 - val_categorical_accuracy: 0.5847\n",
      "Epoch 79/200\n",
      "129/129 [==============================] - 38s 294ms/step - loss: 1.8526 - categorical_accuracy: 0.5096 - val_loss: 1.5987 - val_categorical_accuracy: 0.5847\n",
      "Epoch 80/200\n",
      "129/129 [==============================] - 39s 298ms/step - loss: 1.8479 - categorical_accuracy: 0.5101 - val_loss: 1.6471 - val_categorical_accuracy: 0.5804\n",
      "Epoch 81/200\n",
      "129/129 [==============================] - 38s 294ms/step - loss: 1.8398 - categorical_accuracy: 0.5106 - val_loss: 1.5475 - val_categorical_accuracy: 0.5974\n",
      "Epoch 82/200\n",
      "129/129 [==============================] - 38s 295ms/step - loss: 1.8387 - categorical_accuracy: 0.5173 - val_loss: 1.6770 - val_categorical_accuracy: 0.5674\n",
      "Epoch 83/200\n",
      "129/129 [==============================] - 39s 300ms/step - loss: 1.8311 - categorical_accuracy: 0.5139 - val_loss: 1.5888 - val_categorical_accuracy: 0.5825\n",
      "Epoch 84/200\n",
      "129/129 [==============================] - 40s 305ms/step - loss: 1.8077 - categorical_accuracy: 0.5179 - val_loss: 1.5566 - val_categorical_accuracy: 0.5972\n",
      "Epoch 85/200\n",
      "129/129 [==============================] - 39s 297ms/step - loss: 1.8081 - categorical_accuracy: 0.5218 - val_loss: 1.5442 - val_categorical_accuracy: 0.6035\n",
      "Epoch 86/200\n",
      "129/129 [==============================] - 38s 290ms/step - loss: 1.7761 - categorical_accuracy: 0.5255 - val_loss: 1.5498 - val_categorical_accuracy: 0.5905\n",
      "Epoch 87/200\n",
      "129/129 [==============================] - 39s 299ms/step - loss: 1.7929 - categorical_accuracy: 0.5252 - val_loss: 1.5847 - val_categorical_accuracy: 0.5919\n",
      "Epoch 88/200\n",
      "129/129 [==============================] - 39s 297ms/step - loss: 1.7916 - categorical_accuracy: 0.5250 - val_loss: 1.5496 - val_categorical_accuracy: 0.6008\n",
      "Epoch 89/200\n",
      "129/129 [==============================] - 38s 296ms/step - loss: 1.7712 - categorical_accuracy: 0.5315 - val_loss: 1.5695 - val_categorical_accuracy: 0.5922\n",
      "Epoch 90/200\n",
      "129/129 [==============================] - 38s 296ms/step - loss: 1.7878 - categorical_accuracy: 0.5306 - val_loss: 1.5182 - val_categorical_accuracy: 0.6102\n",
      "Epoch 91/200\n",
      "129/129 [==============================] - 38s 289ms/step - loss: 1.7598 - categorical_accuracy: 0.5317 - val_loss: 1.5043 - val_categorical_accuracy: 0.6121\n",
      "Epoch 92/200\n",
      "129/129 [==============================] - 38s 296ms/step - loss: 1.7743 - categorical_accuracy: 0.5312 - val_loss: 1.5537 - val_categorical_accuracy: 0.5960\n",
      "Epoch 93/200\n",
      "129/129 [==============================] - 38s 297ms/step - loss: 1.7643 - categorical_accuracy: 0.5319 - val_loss: 1.5395 - val_categorical_accuracy: 0.5991\n",
      "Epoch 94/200\n",
      "129/129 [==============================] - 38s 294ms/step - loss: 1.7640 - categorical_accuracy: 0.5344 - val_loss: 1.5033 - val_categorical_accuracy: 0.6102\n",
      "Epoch 95/200\n",
      "129/129 [==============================] - 39s 297ms/step - loss: 1.7465 - categorical_accuracy: 0.5401 - val_loss: 1.4758 - val_categorical_accuracy: 0.6275\n",
      "Epoch 96/200\n",
      "129/129 [==============================] - 38s 294ms/step - loss: 1.7232 - categorical_accuracy: 0.5430 - val_loss: 1.4992 - val_categorical_accuracy: 0.6189\n"
     ]
    },
    {
     "name": "stdout",
     "output_type": "stream",
     "text": [
      "Epoch 97/200\n",
      "129/129 [==============================] - 39s 298ms/step - loss: 1.7081 - categorical_accuracy: 0.5497 - val_loss: 1.5507 - val_categorical_accuracy: 0.5965\n",
      "Epoch 98/200\n",
      "129/129 [==============================] - 39s 297ms/step - loss: 1.7185 - categorical_accuracy: 0.5495 - val_loss: 1.4900 - val_categorical_accuracy: 0.6189\n",
      "Epoch 99/200\n",
      "129/129 [==============================] - 39s 302ms/step - loss: 1.7376 - categorical_accuracy: 0.5444 - val_loss: 1.4650 - val_categorical_accuracy: 0.6213\n",
      "Epoch 100/200\n",
      "129/129 [==============================] - 39s 300ms/step - loss: 1.7180 - categorical_accuracy: 0.5463 - val_loss: 1.5012 - val_categorical_accuracy: 0.6193\n",
      "Epoch 101/200\n",
      "129/129 [==============================] - 38s 296ms/step - loss: 1.7188 - categorical_accuracy: 0.5492 - val_loss: 1.4724 - val_categorical_accuracy: 0.6270\n",
      "Epoch 102/200\n",
      "129/129 [==============================] - 39s 300ms/step - loss: 1.7232 - categorical_accuracy: 0.5467 - val_loss: 1.4926 - val_categorical_accuracy: 0.6210\n",
      "Epoch 103/200\n",
      "129/129 [==============================] - 39s 299ms/step - loss: 1.7117 - categorical_accuracy: 0.5524 - val_loss: 1.4324 - val_categorical_accuracy: 0.6321\n",
      "Epoch 104/200\n",
      "129/129 [==============================] - 39s 297ms/step - loss: 1.7053 - categorical_accuracy: 0.5508 - val_loss: 1.4562 - val_categorical_accuracy: 0.6270\n",
      "Epoch 105/200\n",
      "129/129 [==============================] - 39s 298ms/step - loss: 1.6916 - categorical_accuracy: 0.5532 - val_loss: 1.4228 - val_categorical_accuracy: 0.6391\n",
      "Epoch 106/200\n",
      "129/129 [==============================] - 39s 300ms/step - loss: 1.6935 - categorical_accuracy: 0.5519 - val_loss: 1.4222 - val_categorical_accuracy: 0.6357\n",
      "Epoch 107/200\n",
      "129/129 [==============================] - 38s 294ms/step - loss: 1.6865 - categorical_accuracy: 0.5544 - val_loss: 1.4330 - val_categorical_accuracy: 0.6362\n",
      "Epoch 108/200\n",
      "129/129 [==============================] - 38s 294ms/step - loss: 1.6491 - categorical_accuracy: 0.5620 - val_loss: 1.4216 - val_categorical_accuracy: 0.6343\n",
      "Epoch 109/200\n",
      "129/129 [==============================] - 38s 297ms/step - loss: 1.6557 - categorical_accuracy: 0.5589 - val_loss: 1.4698 - val_categorical_accuracy: 0.6285\n",
      "Epoch 110/200\n",
      "129/129 [==============================] - 39s 297ms/step - loss: 1.6605 - categorical_accuracy: 0.5617 - val_loss: 1.4082 - val_categorical_accuracy: 0.6396\n",
      "Epoch 111/200\n",
      "129/129 [==============================] - 38s 294ms/step - loss: 1.6662 - categorical_accuracy: 0.5607 - val_loss: 1.4075 - val_categorical_accuracy: 0.6482\n",
      "Epoch 112/200\n",
      "129/129 [==============================] - 38s 296ms/step - loss: 1.6603 - categorical_accuracy: 0.5643 - val_loss: 1.4013 - val_categorical_accuracy: 0.6497\n",
      "Epoch 113/200\n",
      "129/129 [==============================] - 38s 293ms/step - loss: 1.6568 - categorical_accuracy: 0.5652 - val_loss: 1.4396 - val_categorical_accuracy: 0.6297\n",
      "Epoch 114/200\n",
      "129/129 [==============================] - 38s 295ms/step - loss: 1.6624 - categorical_accuracy: 0.5626 - val_loss: 1.4432 - val_categorical_accuracy: 0.6309\n",
      "Epoch 115/200\n",
      "129/129 [==============================] - 38s 294ms/step - loss: 1.6444 - categorical_accuracy: 0.5628 - val_loss: 1.4170 - val_categorical_accuracy: 0.6415\n",
      "Epoch 116/200\n",
      "129/129 [==============================] - 38s 295ms/step - loss: 1.6315 - categorical_accuracy: 0.5701 - val_loss: 1.4041 - val_categorical_accuracy: 0.6441\n",
      "Epoch 117/200\n",
      "129/129 [==============================] - 38s 297ms/step - loss: 1.6463 - categorical_accuracy: 0.5634 - val_loss: 1.3825 - val_categorical_accuracy: 0.6504\n",
      "Epoch 118/200\n",
      "129/129 [==============================] - 38s 294ms/step - loss: 1.6244 - categorical_accuracy: 0.5720 - val_loss: 1.4146 - val_categorical_accuracy: 0.6299\n",
      "Epoch 119/200\n",
      "129/129 [==============================] - 38s 296ms/step - loss: 1.6336 - categorical_accuracy: 0.5703 - val_loss: 1.3540 - val_categorical_accuracy: 0.6497\n",
      "Epoch 120/200\n",
      "129/129 [==============================] - 38s 295ms/step - loss: 1.6141 - categorical_accuracy: 0.5749 - val_loss: 1.3332 - val_categorical_accuracy: 0.6624\n",
      "Epoch 121/200\n",
      "129/129 [==============================] - 38s 294ms/step - loss: 1.6181 - categorical_accuracy: 0.5731 - val_loss: 1.3580 - val_categorical_accuracy: 0.6509\n",
      "Epoch 122/200\n",
      "129/129 [==============================] - 39s 304ms/step - loss: 1.6261 - categorical_accuracy: 0.5724 - val_loss: 1.3762 - val_categorical_accuracy: 0.6417\n",
      "Epoch 123/200\n",
      "129/129 [==============================] - 38s 294ms/step - loss: 1.6145 - categorical_accuracy: 0.5791 - val_loss: 1.3262 - val_categorical_accuracy: 0.6663\n",
      "Epoch 124/200\n",
      "129/129 [==============================] - 39s 298ms/step - loss: 1.6072 - categorical_accuracy: 0.5766 - val_loss: 1.3622 - val_categorical_accuracy: 0.6475\n",
      "Epoch 125/200\n",
      "129/129 [==============================] - 38s 295ms/step - loss: 1.6285 - categorical_accuracy: 0.5745 - val_loss: 1.3599 - val_categorical_accuracy: 0.6540\n",
      "Epoch 126/200\n",
      "129/129 [==============================] - 38s 292ms/step - loss: 1.5900 - categorical_accuracy: 0.5838 - val_loss: 1.3796 - val_categorical_accuracy: 0.6465\n",
      "Epoch 127/200\n",
      "129/129 [==============================] - 39s 298ms/step - loss: 1.6056 - categorical_accuracy: 0.5821 - val_loss: 1.3693 - val_categorical_accuracy: 0.6473\n",
      "Epoch 128/200\n",
      "129/129 [==============================] - 38s 293ms/step - loss: 1.5836 - categorical_accuracy: 0.5806 - val_loss: 1.3003 - val_categorical_accuracy: 0.6663\n",
      "Epoch 129/200\n",
      "129/129 [==============================] - 38s 296ms/step - loss: 1.5856 - categorical_accuracy: 0.5842 - val_loss: 1.3202 - val_categorical_accuracy: 0.6701\n",
      "Epoch 130/200\n",
      "129/129 [==============================] - 38s 296ms/step - loss: 1.5809 - categorical_accuracy: 0.5853 - val_loss: 1.3365 - val_categorical_accuracy: 0.6610\n",
      "Epoch 131/200\n",
      "129/129 [==============================] - 38s 293ms/step - loss: 1.5804 - categorical_accuracy: 0.5866 - val_loss: 1.3672 - val_categorical_accuracy: 0.6554\n",
      "Epoch 132/200\n",
      "129/129 [==============================] - 38s 296ms/step - loss: 1.5850 - categorical_accuracy: 0.5834 - val_loss: 1.4163 - val_categorical_accuracy: 0.6410\n",
      "Epoch 133/200\n",
      "129/129 [==============================] - 38s 294ms/step - loss: 1.5718 - categorical_accuracy: 0.5857 - val_loss: 1.3205 - val_categorical_accuracy: 0.6713\n",
      "Epoch 134/200\n",
      "129/129 [==============================] - 38s 296ms/step - loss: 1.5912 - categorical_accuracy: 0.5863 - val_loss: 1.3184 - val_categorical_accuracy: 0.6639\n",
      "Epoch 135/200\n",
      "129/129 [==============================] - 38s 295ms/step - loss: 1.5614 - categorical_accuracy: 0.5895 - val_loss: 1.3763 - val_categorical_accuracy: 0.6598\n",
      "Epoch 136/200\n",
      "129/129 [==============================] - 37s 288ms/step - loss: 1.5723 - categorical_accuracy: 0.5858 - val_loss: 1.3681 - val_categorical_accuracy: 0.6526\n",
      "Epoch 137/200\n",
      "129/129 [==============================] - 38s 295ms/step - loss: 1.5603 - categorical_accuracy: 0.5932 - val_loss: 1.3170 - val_categorical_accuracy: 0.6615\n",
      "Epoch 138/200\n",
      "129/129 [==============================] - 38s 294ms/step - loss: 1.5625 - categorical_accuracy: 0.5915 - val_loss: 1.3303 - val_categorical_accuracy: 0.6605\n",
      "Epoch 139/200\n",
      "129/129 [==============================] - 38s 295ms/step - loss: 1.5401 - categorical_accuracy: 0.5951 - val_loss: 1.3228 - val_categorical_accuracy: 0.6586\n",
      "Epoch 140/200\n",
      "129/129 [==============================] - 38s 292ms/step - loss: 1.5559 - categorical_accuracy: 0.5966 - val_loss: 1.3815 - val_categorical_accuracy: 0.6550\n",
      "Epoch 141/200\n",
      "129/129 [==============================] - 38s 293ms/step - loss: 1.5438 - categorical_accuracy: 0.5934 - val_loss: 1.3187 - val_categorical_accuracy: 0.6667\n",
      "Epoch 142/200\n",
      "129/129 [==============================] - 38s 295ms/step - loss: 1.5320 - categorical_accuracy: 0.5981 - val_loss: 1.3515 - val_categorical_accuracy: 0.6636\n",
      "Epoch 143/200\n",
      "129/129 [==============================] - 38s 294ms/step - loss: 1.5437 - categorical_accuracy: 0.5963 - val_loss: 1.3148 - val_categorical_accuracy: 0.6643\n",
      "Epoch 144/200\n",
      "129/129 [==============================] - 38s 293ms/step - loss: 1.5281 - categorical_accuracy: 0.5999 - val_loss: 1.2909 - val_categorical_accuracy: 0.6711\n"
     ]
    },
    {
     "name": "stdout",
     "output_type": "stream",
     "text": [
      "Epoch 145/200\n",
      "129/129 [==============================] - 39s 297ms/step - loss: 1.5433 - categorical_accuracy: 0.5964 - val_loss: 1.3588 - val_categorical_accuracy: 0.6516\n",
      "Epoch 146/200\n",
      "129/129 [==============================] - 39s 299ms/step - loss: 1.5194 - categorical_accuracy: 0.6029 - val_loss: 1.3255 - val_categorical_accuracy: 0.6622\n",
      "Epoch 147/200\n",
      "129/129 [==============================] - 38s 296ms/step - loss: 1.5274 - categorical_accuracy: 0.6049 - val_loss: 1.2579 - val_categorical_accuracy: 0.6785\n",
      "Epoch 148/200\n",
      "129/129 [==============================] - 38s 294ms/step - loss: 1.5153 - categorical_accuracy: 0.6014 - val_loss: 1.2565 - val_categorical_accuracy: 0.6901\n",
      "Epoch 149/200\n",
      "129/129 [==============================] - 38s 295ms/step - loss: 1.5237 - categorical_accuracy: 0.6016 - val_loss: 1.2614 - val_categorical_accuracy: 0.6831\n",
      "Epoch 150/200\n",
      "129/129 [==============================] - 38s 295ms/step - loss: 1.5098 - categorical_accuracy: 0.6040 - val_loss: 1.2936 - val_categorical_accuracy: 0.6701\n",
      "Epoch 151/200\n",
      "129/129 [==============================] - 38s 294ms/step - loss: 1.5203 - categorical_accuracy: 0.6011 - val_loss: 1.3266 - val_categorical_accuracy: 0.6737\n",
      "Epoch 152/200\n",
      "129/129 [==============================] - 39s 297ms/step - loss: 1.5244 - categorical_accuracy: 0.6026 - val_loss: 1.3018 - val_categorical_accuracy: 0.6701\n",
      "Epoch 153/200\n",
      "129/129 [==============================] - 38s 294ms/step - loss: 1.5065 - categorical_accuracy: 0.6082 - val_loss: 1.2541 - val_categorical_accuracy: 0.6913\n",
      "Epoch 154/200\n",
      "129/129 [==============================] - 38s 294ms/step - loss: 1.5195 - categorical_accuracy: 0.6019 - val_loss: 1.2806 - val_categorical_accuracy: 0.6682\n",
      "Epoch 155/200\n",
      "129/129 [==============================] - 38s 296ms/step - loss: 1.5155 - categorical_accuracy: 0.6062 - val_loss: 1.2481 - val_categorical_accuracy: 0.6826\n",
      "Epoch 156/200\n",
      "129/129 [==============================] - 38s 293ms/step - loss: 1.5068 - categorical_accuracy: 0.6105 - val_loss: 1.2591 - val_categorical_accuracy: 0.6858\n",
      "Epoch 157/200\n",
      "129/129 [==============================] - 38s 295ms/step - loss: 1.4748 - categorical_accuracy: 0.6191 - val_loss: 1.2845 - val_categorical_accuracy: 0.6800\n",
      "Epoch 158/200\n",
      "129/129 [==============================] - 38s 295ms/step - loss: 1.5156 - categorical_accuracy: 0.6040 - val_loss: 1.3095 - val_categorical_accuracy: 0.6737\n",
      "Epoch 159/200\n",
      "129/129 [==============================] - 38s 294ms/step - loss: 1.4979 - categorical_accuracy: 0.6103 - val_loss: 1.2754 - val_categorical_accuracy: 0.6783\n",
      "Epoch 160/200\n",
      "129/129 [==============================] - 39s 297ms/step - loss: 1.5028 - categorical_accuracy: 0.6095 - val_loss: 1.2758 - val_categorical_accuracy: 0.6797\n",
      "Epoch 161/200\n",
      "129/129 [==============================] - 38s 295ms/step - loss: 1.5005 - categorical_accuracy: 0.6065 - val_loss: 1.2301 - val_categorical_accuracy: 0.6860\n",
      "Epoch 162/200\n",
      "129/129 [==============================] - 38s 295ms/step - loss: 1.4984 - categorical_accuracy: 0.6085 - val_loss: 1.2568 - val_categorical_accuracy: 0.6764\n",
      "Epoch 163/200\n",
      "129/129 [==============================] - 6624s 52s/step - loss: 1.4841 - categorical_accuracy: 0.6132 - val_loss: 1.2694 - val_categorical_accuracy: 0.6759\n",
      "Epoch 164/200\n",
      "129/129 [==============================] - 33s 254ms/step - loss: 1.5028 - categorical_accuracy: 0.6105 - val_loss: 1.3202 - val_categorical_accuracy: 0.6651\n",
      "Epoch 165/200\n",
      "129/129 [==============================] - 34s 260ms/step - loss: 1.4834 - categorical_accuracy: 0.6177 - val_loss: 1.2415 - val_categorical_accuracy: 0.6848\n",
      "Epoch 166/200\n",
      "129/129 [==============================] - 35s 268ms/step - loss: 1.4720 - categorical_accuracy: 0.6157 - val_loss: 1.2427 - val_categorical_accuracy: 0.6884\n",
      "Epoch 167/200\n",
      "129/129 [==============================] - 36s 278ms/step - loss: 1.4875 - categorical_accuracy: 0.6163 - val_loss: 1.2958 - val_categorical_accuracy: 0.6737\n",
      "Epoch 168/200\n",
      "129/129 [==============================] - 39s 298ms/step - loss: 1.4854 - categorical_accuracy: 0.6126 - val_loss: 1.2307 - val_categorical_accuracy: 0.6927\n",
      "Epoch 169/200\n",
      "129/129 [==============================] - 35s 272ms/step - loss: 1.4654 - categorical_accuracy: 0.6174 - val_loss: 1.2447 - val_categorical_accuracy: 0.6860\n",
      "Epoch 170/200\n",
      "129/129 [==============================] - 36s 281ms/step - loss: 1.4492 - categorical_accuracy: 0.6194 - val_loss: 1.2437 - val_categorical_accuracy: 0.6894\n",
      "Epoch 171/200\n",
      "129/129 [==============================] - 38s 296ms/step - loss: 1.4654 - categorical_accuracy: 0.6163 - val_loss: 1.2736 - val_categorical_accuracy: 0.6744\n",
      "Epoch 172/200\n",
      "129/129 [==============================] - 38s 295ms/step - loss: 1.4758 - categorical_accuracy: 0.6174 - val_loss: 1.2487 - val_categorical_accuracy: 0.6783\n",
      "Epoch 173/200\n",
      "129/129 [==============================] - 38s 295ms/step - loss: 1.4570 - categorical_accuracy: 0.6180 - val_loss: 1.2180 - val_categorical_accuracy: 0.6853\n",
      "Epoch 174/200\n",
      "129/129 [==============================] - 38s 295ms/step - loss: 1.4413 - categorical_accuracy: 0.6225 - val_loss: 1.2448 - val_categorical_accuracy: 0.6848\n",
      "Epoch 175/200\n",
      "129/129 [==============================] - 38s 294ms/step - loss: 1.4443 - categorical_accuracy: 0.6212 - val_loss: 1.2960 - val_categorical_accuracy: 0.6655\n",
      "Epoch 176/200\n",
      "129/129 [==============================] - 39s 298ms/step - loss: 1.4543 - categorical_accuracy: 0.6242 - val_loss: 1.2335 - val_categorical_accuracy: 0.6824\n",
      "Epoch 177/200\n",
      "129/129 [==============================] - 38s 292ms/step - loss: 1.4384 - categorical_accuracy: 0.6282 - val_loss: 1.2517 - val_categorical_accuracy: 0.6874\n",
      "Epoch 178/200\n",
      "129/129 [==============================] - 39s 298ms/step - loss: 1.4531 - categorical_accuracy: 0.6185 - val_loss: 1.2204 - val_categorical_accuracy: 0.6918\n",
      "Epoch 179/200\n",
      "129/129 [==============================] - 39s 297ms/step - loss: 1.4249 - categorical_accuracy: 0.6295 - val_loss: 1.2182 - val_categorical_accuracy: 0.6959\n",
      "Epoch 180/200\n",
      "129/129 [==============================] - 39s 297ms/step - loss: 1.4452 - categorical_accuracy: 0.6236 - val_loss: 1.2544 - val_categorical_accuracy: 0.6846\n",
      "Epoch 181/200\n",
      "129/129 [==============================] - 38s 296ms/step - loss: 1.4422 - categorical_accuracy: 0.6280 - val_loss: 1.2371 - val_categorical_accuracy: 0.6831\n",
      "Epoch 182/200\n",
      "129/129 [==============================] - 38s 294ms/step - loss: 1.4269 - categorical_accuracy: 0.6314 - val_loss: 1.2774 - val_categorical_accuracy: 0.6773\n",
      "Epoch 183/200\n",
      "129/129 [==============================] - 39s 299ms/step - loss: 1.4215 - categorical_accuracy: 0.6294 - val_loss: 1.1920 - val_categorical_accuracy: 0.6949\n",
      "Epoch 184/200\n",
      "129/129 [==============================] - 39s 298ms/step - loss: 1.4239 - categorical_accuracy: 0.6286 - val_loss: 1.2391 - val_categorical_accuracy: 0.6877\n",
      "Epoch 185/200\n",
      "129/129 [==============================] - 39s 298ms/step - loss: 1.4224 - categorical_accuracy: 0.6306 - val_loss: 1.2192 - val_categorical_accuracy: 0.6985\n",
      "Epoch 186/200\n",
      "129/129 [==============================] - 39s 301ms/step - loss: 1.4339 - categorical_accuracy: 0.6280 - val_loss: 1.2337 - val_categorical_accuracy: 0.6951\n",
      "Epoch 187/200\n",
      "129/129 [==============================] - 38s 295ms/step - loss: 1.4205 - categorical_accuracy: 0.6324 - val_loss: 1.2096 - val_categorical_accuracy: 0.6987\n",
      "Epoch 188/200\n",
      "129/129 [==============================] - 39s 299ms/step - loss: 1.4274 - categorical_accuracy: 0.6330 - val_loss: 1.1674 - val_categorical_accuracy: 0.7009\n",
      "Epoch 189/200\n",
      "129/129 [==============================] - 38s 296ms/step - loss: 1.4068 - categorical_accuracy: 0.6358 - val_loss: 1.2291 - val_categorical_accuracy: 0.7000\n",
      "Epoch 190/200\n",
      "129/129 [==============================] - 39s 299ms/step - loss: 1.4118 - categorical_accuracy: 0.6359 - val_loss: 1.2048 - val_categorical_accuracy: 0.7052\n",
      "Epoch 191/200\n",
      "129/129 [==============================] - 39s 298ms/step - loss: 1.4181 - categorical_accuracy: 0.6328 - val_loss: 1.2618 - val_categorical_accuracy: 0.6872\n",
      "Epoch 192/200\n"
     ]
    },
    {
     "name": "stdout",
     "output_type": "stream",
     "text": [
      "129/129 [==============================] - 39s 300ms/step - loss: 1.4088 - categorical_accuracy: 0.6372 - val_loss: 1.1782 - val_categorical_accuracy: 0.7031\n",
      "Epoch 193/200\n",
      "129/129 [==============================] - 39s 297ms/step - loss: 1.3907 - categorical_accuracy: 0.6388 - val_loss: 1.2629 - val_categorical_accuracy: 0.6831\n",
      "Epoch 194/200\n",
      "129/129 [==============================] - 38s 293ms/step - loss: 1.4116 - categorical_accuracy: 0.6314 - val_loss: 1.2377 - val_categorical_accuracy: 0.6906\n",
      "Epoch 195/200\n",
      "129/129 [==============================] - 39s 299ms/step - loss: 1.4131 - categorical_accuracy: 0.6393 - val_loss: 1.1968 - val_categorical_accuracy: 0.7012\n",
      "Epoch 196/200\n",
      "129/129 [==============================] - 39s 300ms/step - loss: 1.4162 - categorical_accuracy: 0.6327 - val_loss: 1.2286 - val_categorical_accuracy: 0.6920\n",
      "Epoch 197/200\n",
      "129/129 [==============================] - 39s 297ms/step - loss: 1.3952 - categorical_accuracy: 0.6400 - val_loss: 1.1861 - val_categorical_accuracy: 0.7084\n",
      "Epoch 198/200\n",
      "129/129 [==============================] - 39s 297ms/step - loss: 1.4246 - categorical_accuracy: 0.6300 - val_loss: 1.1952 - val_categorical_accuracy: 0.6937\n",
      "Epoch 199/200\n",
      "129/129 [==============================] - 38s 296ms/step - loss: 1.4138 - categorical_accuracy: 0.6348 - val_loss: 1.2073 - val_categorical_accuracy: 0.6956\n",
      "Epoch 200/200\n",
      "129/129 [==============================] - 39s 299ms/step - loss: 1.4005 - categorical_accuracy: 0.6350 - val_loss: 1.1944 - val_categorical_accuracy: 0.7004\n"
     ]
    },
    {
     "data": {
      "text/plain": [
       "<keras.callbacks.History at 0x20345d14d30>"
      ]
     },
     "execution_count": 31,
     "metadata": {},
     "output_type": "execute_result"
    }
   ],
   "source": [
    "model.fit(datagen.flow(X_train,y_train,batch_size=batch_size,shuffle=True,seed=100),\n",
    "                    steps_per_epoch=X_train.shape[0]//batch_size,\n",
    "                    epochs=epochs, validation_data=(X_test,y_test),\n",
    "                    workers=4)"
   ]
  },
  {
   "cell_type": "code",
   "execution_count": 32,
   "metadata": {},
   "outputs": [
    {
     "name": "stdout",
     "output_type": "stream",
     "text": [
      "130/130 [==============================] - 2s 17ms/step - loss: 1.1944 - categorical_accuracy: 0.7004\n",
      "Accuracy test: 70.04%\n"
     ]
    }
   ],
   "source": [
    "scores = model.evaluate(X_test, y_test) \n",
    "print(\"Accuracy test: %.2f%%\" % (scores[1]*100))"
   ]
  },
  {
   "cell_type": "code",
   "execution_count": 46,
   "metadata": {},
   "outputs": [
    {
     "data": {
      "text/plain": [
       "array([[1.2448151e-05, 4.3114701e-06, 1.4512588e-05, 6.8479909e-07,\n",
       "        5.1080528e-06, 3.3329314e-05, 8.4687611e-11, 4.4611265e-10,\n",
       "        2.0814743e-09, 2.1425356e-07, 3.7672216e-06, 5.9590454e-04,\n",
       "        3.7724828e-07, 3.5117462e-09, 2.4068703e-08, 1.1026046e-06,\n",
       "        8.9171488e-07, 8.4489468e-04, 1.4109415e-06, 8.0446041e-01,\n",
       "        1.7722973e-01, 7.3583045e-08, 7.8339353e-06, 1.5810097e-02,\n",
       "        1.3168176e-08, 3.3171721e-12, 3.5081027e-06, 8.6395535e-10,\n",
       "        4.6355577e-09, 9.7496466e-10, 1.0913506e-09, 5.7070952e-07,\n",
       "        3.4297575e-06, 2.7291185e-06, 8.4969279e-04, 6.4033664e-08,\n",
       "        7.2840412e-05, 4.1453468e-08, 3.9956365e-05]], dtype=float32)"
      ]
     },
     "execution_count": 46,
     "metadata": {},
     "output_type": "execute_result"
    }
   ],
   "source": [
    "image = np.expand_dims(X_test[500], axis=0)\n",
    "z = model.predict(image)\n",
    "z"
   ]
  },
  {
   "cell_type": "code",
   "execution_count": 47,
   "metadata": {},
   "outputs": [
    {
     "data": {
      "text/plain": [
       "0.8044604"
      ]
     },
     "execution_count": 47,
     "metadata": {},
     "output_type": "execute_result"
    }
   ],
   "source": [
    "h = z.max()\n",
    "h"
   ]
  },
  {
   "cell_type": "code",
   "execution_count": 48,
   "metadata": {},
   "outputs": [
    {
     "data": {
      "text/plain": [
       "'Mazda'"
      ]
     },
     "execution_count": 48,
     "metadata": {},
     "output_type": "execute_result"
    }
   ],
   "source": [
    "result = np.where(z == h)\n",
    "result\n",
    "result[1]\n",
    "y = result[1]\n",
    "y[0]\n",
    "B = y[0]\n",
    "All_brands[B]"
   ]
  },
  {
   "cell_type": "code",
   "execution_count": 49,
   "metadata": {},
   "outputs": [
    {
     "data": {
      "image/png": "[encoded data removed]",
      "text/plain": [
       "<Figure size 432x288 with 1 Axes>"
      ]
     },
     "metadata": {
      "needs_background": "light"
     },
     "output_type": "display_data"
    }
   ],
   "source": [
    "plt.imshow(X_test[500])\n",
    "plt.show()"
   ]
  },
  {
   "cell_type": "code",
   "execution_count": 59,
   "metadata": {},
   "outputs": [
    {
     "data": {
      "text/plain": [
       "array([[0, 0, 0, ..., 0, 0, 0],\n",
       "       [0, 0, 0, ..., 0, 0, 0],\n",
       "       [0, 0, 0, ..., 1, 0, 0],\n",
       "       ...,\n",
       "       [0, 0, 0, ..., 0, 0, 0],\n",
       "       [0, 0, 0, ..., 0, 0, 0],\n",
       "       [0, 0, 0, ..., 0, 0, 0]])"
      ]
     },
     "execution_count": 59,
     "metadata": {},
     "output_type": "execute_result"
    }
   ],
   "source": [
    "from sklearn.metrics import precision_recall_fscore_support as prfs\n",
    "y_pred = model.predict(X_test)\n",
    "y_pred = np.round(y_pred).astype(int)\n",
    "y_pred"
   ]
  },
  {
   "cell_type": "code",
   "execution_count": 67,
   "metadata": {},
   "outputs": [
    {
     "name": "stdout",
     "output_type": "stream",
     "text": [
      "Precision: 89.62%\n",
      "Recall: 61.62%\n",
      "F1 score: 72.22%\n",
      "Accuracy: 70.04%\n"
     ]
    }
   ],
   "source": [
    "precision, recall, f1, support = prfs(y_test, y_pred, average='weighted')\n",
    "print(\"Precision: {:.2%}\\nRecall: {:.2%}\\nF1 score: {:.2%}\\nAccuracy: {:.2%}\".format(precision, recall, f1, scores[1]))"
   ]
  },
  {
   "cell_type": "code",
   "execution_count": 76,
   "metadata": {},
   "outputs": [
    {
     "data": {
      "image/png": "[encoded data removed]",
      "text/plain": [
       "<Figure size 1296x2160 with 3 Axes>"
      ]
     },
     "metadata": {
      "needs_background": "light"
     },
     "output_type": "display_data"
    }
   ],
   "source": [
    "precision, recall, f1, support= prfs(y_test, y_pred, average=None)\n",
    "\n",
    "plt.subplots(figsize=(18,30))\n",
    "x = range(len(All_brands))\n",
    "plt.subplot(311)\n",
    "plt.title('Precision per class')\n",
    "plt.ylim(0.3, 1.00)\n",
    "plt.bar(x, precision_, color='Red')\n",
    "plt.xticks(x,All_brands, rotation = 90)\n",
    "plt.subplot(312)\n",
    "plt.title('Recall per class')\n",
    "plt.ylim(0.3, 1.00)\n",
    "plt.bar(x, recall_, color='Green')\n",
    "plt.xticks(x,All_brands, rotation = 90)\n",
    "plt.subplot(313)\n",
    "plt.title('F1 score per class')\n",
    "plt.ylim(0.3, 1.00)\n",
    "plt.bar(x, f1_, color='Blue')\n",
    "plt.xticks(x,All_brands, rotation = 90)\n",
    "plt.show()"
   ]
  },
  {
   "cell_type": "code",
   "execution_count": null,
   "metadata": {},
   "outputs": [],
   "source": []
  }
 ],
 "metadata": {
  "kernelspec": {
   "display_name": "Python 3",
   "language": "python",
   "name": "python3"
  },
  "language_info": {
   "codemirror_mode": {
    "name": "ipython",
    "version": 3
   },
   "file_extension": ".py",
   "mimetype": "text/x-python",
   "name": "python",
   "nbconvert_exporter": "python",
   "pygments_lexer": "ipython3",
   "version": "3.8.3"
  }
 },
 "nbformat": 4,
 "nbformat_minor": 4
}
